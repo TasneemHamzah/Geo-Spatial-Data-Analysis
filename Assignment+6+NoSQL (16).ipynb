{
 "cells": [
  {
   "cell_type": "code",
   "execution_count": 1,
   "metadata": {
    "collapsed": true
   },
   "outputs": [],
   "source": [
    "from unqlite import UnQLite\n",
    "db = UnQLite('sample.db')\n",
    "data = db.collection('data')"
   ]
  },
  {
   "cell_type": "code",
   "execution_count": 2,
   "metadata": {},
   "outputs": [],
   "source": [
    "# Graded Cell, PartID: o1flK\n",
    "import os\n",
    "import sys\n",
    "import json\n",
    "import math\n",
    "from math import sin,cos,radians,pow,atan2,sqrt\n",
    "\n",
    "def FindBusinessBasedOnCity(cityToSearch, saveLocation1, collection):\n",
    "    file1 = open(saveLocation1, \"w\")\n",
    "    d = collection.filter(lambda obj: obj['city'].decode('utf8') == cityToSearch)\n",
    "    for line in d:\n",
    "        loc=str(line['name'].decode('utf8'))+\"$\"+str(line['full_address'].decode('utf8')).replace(\"\\n\",\",\")+\"$\"+str(line['city'].decode('utf8'))+\"$\"+str(line['state'].decode('utf8'))+\"\\n\"\n",
    "        #print(loc)\n",
    "        file1.write(loc)\n",
    "    file1.close()\n",
    "    #pass\n",
    "\n",
    "def FindBusinessBasedOnLocation(categoriesToSearch, myLocation, maxDistance, saveLocation2, collection):\n",
    "    lat1=myLocation[0]\n",
    "    long1=myLocation[1]\n",
    "    file2 = open(saveLocation2, \"w\")\n",
    "    for i in range(len(collection)):\n",
    "        lat2=collection[i]['latitude']\n",
    "        long2=collection[i]['longitude']\n",
    "        if (float(DistanceFunction(float(lat2), float(long2), float(lat1), float(long1))) <= float(maxDistance)):\n",
    "            for category in categoriesToSearch:\n",
    "                if category in (i.decode('utf-8', 'ignore') for i in collection[i]['categories']):\n",
    "                    file2.write(collection[i]['name'].decode('utf8'))\n",
    "                    break    \n",
    "    file2.close()\n",
    "    #pass\n",
    "    \n",
    "def DistanceFunction(lat2, lon2, lat1, lon1):\n",
    "    R = 3959 \n",
    "    r1 = radians(lat1)\n",
    "    r2 = radians(lat2)\n",
    "    r3 = radians((lat2-lat1))\n",
    "    r4 = radians((lon2-lon1))\n",
    "    a = math.sin(r3/2) * math.sin(r3/2) + math.cos(r1) * math.cos(r2) * math.sin(r4/2) * math.sin(r4/2)\n",
    "    c = 2 * math.atan2(math.sqrt(a), math.sqrt(1-a))\n",
    "    d = R * c\n",
    "    return d\n"
   ]
  },
  {
   "cell_type": "code",
   "execution_count": 3,
   "metadata": {},
   "outputs": [
    {
     "name": "stdout",
     "output_type": "stream",
     "text": [
      "Correct! You FindBusinessByCity function passes these test cases. This does not cover all possible test edge cases, however, so make sure that your function covers them before submitting!\n"
     ]
    }
   ],
   "source": [
    "true_results = [\"VinciTorio's Restaurant$1835 E Elliot Rd, Ste C109, Tempe, AZ 85284$Tempe$AZ\", \"P.croissants$7520 S Rural Rd, Tempe, AZ 85283$Tempe$AZ\", \"Salt Creek Home$1725 W Ruby Dr, Tempe, AZ 85284$Tempe$AZ\"]\n",
    "\n",
    "try:\n",
    "    FindBusinessBasedOnCity('Tempe', 'output_city.txt', data)\n",
    "except NameError as e:\n",
    "    print ('The FindBusinessBasedOnCity function is not defined! You must run the cell containing the function before running this evaluation cell.')\n",
    "except TypeError as e:\n",
    "    print (\"The FindBusinessBasedOnCity function is supposed to accept three arguments. Yours does not!\")\n",
    "    \n",
    "try:\n",
    "    opf = open('output_city.txt', 'r')\n",
    "except FileNotFoundError as e:\n",
    "    print (\"The FindBusinessBasedOnCity function does not write data to the correct location.\")\n",
    "    \n",
    "lines = opf.readlines()\n",
    "if len(lines) != 3:\n",
    "    print (\"The FindBusinessBasedOnCity function does not find the correct number of results, should be 3.\")\n",
    "    \n",
    "lines = [line.strip() for line in lines]\n",
    "if sorted(lines) == sorted(true_results):\n",
    "    print (\"Correct! You FindBusinessByCity function passes these test cases. This does not cover all possible test edge cases, however, so make sure that your function covers them before submitting!\")"
   ]
  },
  {
   "cell_type": "code",
   "execution_count": 4,
   "metadata": {},
   "outputs": [
    {
     "name": "stdout",
     "output_type": "stream",
     "text": [
      "Correct! Your FindBusinessBasedOnLocation function passes these test cases. This does not cover all possible edge cases, so make sure your function does before submitting.\n"
     ]
    }
   ],
   "source": [
    "true_results = [\"VinciTorio's Restaurant\"]\n",
    "\n",
    "try:\n",
    "    FindBusinessBasedOnLocation(['Buffets'], [33.3482589, -111.9088346], 10, 'output_loc.txt', data)\n",
    "except NameError as e: \n",
    "    print ('The FindBusinessBasedOnLocation function is not defined! You must run the cell containing the function before running this evaluation cell.')\n",
    "except TypeError as e:\n",
    "    print (\"The FindBusinessBasedOnLocation function is supposed to accept five arguments. Yours does not!\")\n",
    "    \n",
    "try:\n",
    "    opf = open('output_loc.txt','r')\n",
    "except FileNotFoundError as e:\n",
    "    print (\"The FindBusinessBasedOnLocation function does not write data to the correct location.\")\n",
    "\n",
    "lines = opf.readlines()\n",
    "if len(lines) != 1:\n",
    "    print (\"The FindBusinessBasedOnLocation function does not find the correct number of results, should be only 1.\")\n",
    "\n",
    "if lines[0].strip() == true_results[0]:\n",
    "    print (\"Correct! Your FindBusinessBasedOnLocation function passes these test cases. This does not cover all possible edge cases, so make sure your function does before submitting.\")"
   ]
  }
 ],
 "metadata": {
  "kernelspec": {
   "display_name": "Python 3",
   "language": "python",
   "name": "python3"
  },
  "language_info": {
   "codemirror_mode": {
    "name": "ipython",
    "version": 3
   },
   "file_extension": ".py",
   "mimetype": "text/x-python",
   "name": "python",
   "nbconvert_exporter": "python",
   "pygments_lexer": "ipython3",
   "version": "3.6.2"
  }
 },
 "nbformat": 4,
 "nbformat_minor": 2
}
